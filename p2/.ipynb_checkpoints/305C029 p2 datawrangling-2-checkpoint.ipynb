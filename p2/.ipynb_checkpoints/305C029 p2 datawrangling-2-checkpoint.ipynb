{
 "cells": [
  {
   "cell_type": "code",
   "execution_count": null,
   "id": "09cdf79d",
   "metadata": {},
   "outputs": [],
   "source": [
    "import pandas as pd\n",
    "import numpy as np\n",
    "import matplotlib.pyplot as plt\n",
    "%matplotlib inline\n",
    "from scipy import stats"
   ]
  },
  {
   "cell_type": "code",
   "execution_count": null,
   "id": "8980b30d",
   "metadata": {},
   "outputs": [],
   "source": [
    "df=pd.read_csv(\"student performance.csv\")"
   ]
  },
  {
   "cell_type": "code",
   "execution_count": null,
   "id": "889f11fc",
   "metadata": {},
   "outputs": [],
   "source": [
    "df"
   ]
  },
  {
   "cell_type": "code",
   "execution_count": null,
   "id": "e32fda4f",
   "metadata": {},
   "outputs": [],
   "source": [
    "df.isnull()"
   ]
  },
  {
   "cell_type": "code",
   "execution_count": null,
   "id": "ea74ca8d",
   "metadata": {},
   "outputs": [],
   "source": [
    "series = pd.isnull(df[\"reading score\"])\n",
    "df[series]"
   ]
  },
  {
   "cell_type": "code",
   "execution_count": null,
   "id": "a33cbae3",
   "metadata": {},
   "outputs": [],
   "source": [
    "df.notnull()"
   ]
  },
  {
   "cell_type": "code",
   "execution_count": null,
   "id": "e9330d15",
   "metadata": {},
   "outputs": [],
   "source": [
    "seseries = pd.notnull(df[\"reading score\"])\n",
    "df[series]"
   ]
  },
  {
   "cell_type": "code",
   "execution_count": null,
   "id": "cd7d0428",
   "metadata": {},
   "outputs": [],
   "source": [
    "from sklearn.preprocessing import LabelEncoder\n",
    "le = LabelEncoder ()\n",
    "df['gender'] = le.fit_transform(df['gender'])\n",
    "newdf=df\n",
    "df"
   ]
  },
  {
   "cell_type": "code",
   "execution_count": null,
   "id": "5c48eb78",
   "metadata": {},
   "outputs": [],
   "source": [
    "df['gender'].replace({1: \"male\", 0: \"female\"}, inplace=True)\n",
    "df"
   ]
  },
  {
   "cell_type": "code",
   "execution_count": null,
   "id": "698f4e45",
   "metadata": {},
   "outputs": [],
   "source": [
    "ndf=df\n",
    "ndf.fillna(0)"
   ]
  },
  {
   "cell_type": "code",
   "execution_count": null,
   "id": "a77a9016",
   "metadata": {},
   "outputs": [],
   "source": [
    "m_v=df['reading score'].mean()\n",
    "df['reading score'].fillna(value=m_v, inplace=True)\n",
    "df"
   ]
  },
  {
   "cell_type": "code",
   "execution_count": null,
   "id": "ec3b2728",
   "metadata": {},
   "outputs": [],
   "source": [
    "ndf.replace(to_replace = np.nan, value = -99)"
   ]
  },
  {
   "cell_type": "code",
   "execution_count": null,
   "id": "b0faef1c",
   "metadata": {},
   "outputs": [],
   "source": [
    "ndf.dropna()"
   ]
  },
  {
   "cell_type": "code",
   "execution_count": null,
   "id": "55d97104",
   "metadata": {},
   "outputs": [],
   "source": [
    "ndf.dropna(how = 'all')"
   ]
  },
  {
   "cell_type": "code",
   "execution_count": null,
   "id": "d42c30c5",
   "metadata": {},
   "outputs": [],
   "source": [
    "ndf.dropna(axis = 1)"
   ]
  },
  {
   "cell_type": "code",
   "execution_count": null,
   "id": "b7281d29",
   "metadata": {},
   "outputs": [],
   "source": [
    "new_data =ndf.dropna (axis = 0, how ='any')\n",
    "new_data"
   ]
  },
  {
   "cell_type": "code",
   "execution_count": null,
   "id": "b9453059",
   "metadata": {},
   "outputs": [],
   "source": [
    "col =['reading score', 'reading score', 'writing score', 'placement score']\n",
    "df.boxplot(col)"
   ]
  },
  {
   "cell_type": "code",
   "execution_count": null,
   "id": "fea4a818",
   "metadata": {},
   "outputs": [],
   "source": [
    "print(np.where(df['reading score']>90))\n",
    "print(np.where(df['writing score']>90))"
   ]
  },
  {
   "cell_type": "code",
   "execution_count": null,
   "id": "8d419955",
   "metadata": {},
   "outputs": [],
   "source": [
    "fig, ax =plt.subplots(figsize = (18,10))\n",
    "ax.scatter(df['reading score'], df['writing score'])\n",
    "plt.show()\n",
    "ax.set_xlabel('(Proportion non-retail business acres)/(town)')\n",
    "ax.set_ylabel('(Full-value property-tax rate)/($10,000)')"
   ]
  },
  {
   "cell_type": "code",
   "execution_count": null,
   "id": "f35d3de6",
   "metadata": {},
   "outputs": [],
   "source": [
    "print(np.where((df['reading score']<50) & (df['writing score']>1)))\n",
    "print(np.where((df['reading score']>85) & (df['writing score']<3)))\n"
   ]
  },
  {
   "cell_type": "code",
   "execution_count": null,
   "id": "55834f83",
   "metadata": {},
   "outputs": [],
   "source": [
    "z = np.abs(stats.zscore(df['reading score']))"
   ]
  },
  {
   "cell_type": "code",
   "execution_count": null,
   "id": "536fd8da",
   "metadata": {},
   "outputs": [],
   "source": [
    "print(z)"
   ]
  },
  {
   "cell_type": "code",
   "execution_count": null,
   "id": "7f53caa8",
   "metadata": {},
   "outputs": [],
   "source": [
    "threshold = 0.18"
   ]
  },
  {
   "cell_type": "code",
   "execution_count": null,
   "id": "4d4ae1cf",
   "metadata": {},
   "outputs": [],
   "source": [
    "sample_outliers = np.where(z <threshold)"
   ]
  },
  {
   "cell_type": "code",
   "execution_count": null,
   "id": "5cd5adf3",
   "metadata": {},
   "outputs": [],
   "source": [
    "sample_outliers"
   ]
  },
  {
   "cell_type": "code",
   "execution_count": null,
   "id": "cf73daad",
   "metadata": {},
   "outputs": [],
   "source": [
    "sorted_rscore= sorted(df['reading score'])"
   ]
  },
  {
   "cell_type": "code",
   "execution_count": null,
   "id": "76772f4b",
   "metadata": {},
   "outputs": [],
   "source": [
    "sorted_rscore"
   ]
  },
  {
   "cell_type": "code",
   "execution_count": null,
   "id": "e9849704",
   "metadata": {},
   "outputs": [],
   "source": [
    "q1 = np.percentile(sorted_rscore, 25)\n",
    "q3 = np.percentile(sorted_rscore, 75)\n",
    "print(q1,q3)"
   ]
  },
  {
   "cell_type": "code",
   "execution_count": null,
   "id": "d30497ee",
   "metadata": {},
   "outputs": [],
   "source": [
    "IQR = q3-q1"
   ]
  },
  {
   "cell_type": "code",
   "execution_count": null,
   "id": "fbb1a6c9",
   "metadata": {},
   "outputs": [],
   "source": [
    "lwr_bound = q1-(1.5*IQR)\n",
    "upr_bound = q3+(1.5*IQR)\n",
    "print(lwr_bound, upr_bound)"
   ]
  },
  {
   "cell_type": "code",
   "execution_count": null,
   "id": "9ed8a04d",
   "metadata": {},
   "outputs": [],
   "source": [
    "new_df=df\n",
    "for i in sample_outliers:new_df.drop(i,inplace=True)\n",
    "new_df"
   ]
  },
  {
   "cell_type": "code",
   "execution_count": null,
   "id": "0fe945d9",
   "metadata": {},
   "outputs": [],
   "source": [
    "df=pd.read_csv(\"student performance.csv\")"
   ]
  },
  {
   "cell_type": "code",
   "execution_count": null,
   "id": "9e52fd50",
   "metadata": {},
   "outputs": [],
   "source": [
    "df_stud=df\n",
    "ninetieth_percentile = np.percentile(df_stud['reading score'], 90)\n",
    "b = np.where(df_stud['reading score']>ninetieth_percentile,\n",
    "ninetieth_percentile, df_stud['reading score'])\n",
    "print(\"New array:\",b)"
   ]
  },
  {
   "cell_type": "code",
   "execution_count": null,
   "id": "fc4eafeb",
   "metadata": {},
   "outputs": [],
   "source": [
    "col = ['reading score']\n",
    "\n",
    "df.boxplot(col)"
   ]
  },
  {
   "cell_type": "code",
   "execution_count": null,
   "id": "c377b462",
   "metadata": {},
   "outputs": [],
   "source": [
    "median=np.median(sorted_rscore)\n",
    "median"
   ]
  },
  {
   "cell_type": "code",
   "execution_count": null,
   "id": "e2d4a8b5",
   "metadata": {},
   "outputs": [],
   "source": [
    "refined_df=df\n",
    "refined_df['reading score'] = np.where(refined_df['reading score'] >upr_bound, median,refined_df['reading score'])"
   ]
  },
  {
   "cell_type": "code",
   "execution_count": null,
   "id": "a8134ae6",
   "metadata": {},
   "outputs": [],
   "source": [
    "df"
   ]
  },
  {
   "cell_type": "code",
   "execution_count": null,
   "id": "fa7a7f11",
   "metadata": {},
   "outputs": [],
   "source": [
    "\n",
    "refined_df['reading score'] = np.where(refined_df['reading score'] <lwr_bound, median,refined_df['reading score'])"
   ]
  },
  {
   "cell_type": "code",
   "execution_count": null,
   "id": "0d01ba2d",
   "metadata": {},
   "outputs": [],
   "source": [
    "df\n"
   ]
  },
  {
   "cell_type": "code",
   "execution_count": null,
   "id": "381dad4a",
   "metadata": {},
   "outputs": [],
   "source": [
    "col = ['reading score']\n",
    "refined_df.boxplot(col)"
   ]
  },
  {
   "cell_type": "code",
   "execution_count": null,
   "id": "4f69d3bd",
   "metadata": {},
   "outputs": [],
   "source": [
    "df"
   ]
  },
  {
   "cell_type": "code",
   "execution_count": null,
   "id": "4b2d940d",
   "metadata": {},
   "outputs": [],
   "source": [
    "import matplotlib.pyplot as plt\n",
    "new_df['reading score'].plot(kind ='hist')\n",
    "df['log_math'] = np.log10(df['reading score'])"
   ]
  },
  {
   "cell_type": "code",
   "execution_count": null,
   "id": "41ce5658",
   "metadata": {},
   "outputs": [],
   "source": [
    "df['log_math'].plot(kind = 'hist')"
   ]
  },
  {
   "cell_type": "code",
   "execution_count": null,
   "id": "8bd1eb65",
   "metadata": {},
   "outputs": [],
   "source": []
  },
  {
   "cell_type": "code",
   "execution_count": null,
   "id": "981ad981",
   "metadata": {},
   "outputs": [],
   "source": []
  }
 ],
 "metadata": {
  "kernelspec": {
   "display_name": "Python 3",
   "language": "python",
   "name": "python3"
  },
  "language_info": {
   "codemirror_mode": {
    "name": "ipython",
    "version": 3
   },
   "file_extension": ".py",
   "mimetype": "text/x-python",
   "name": "python",
   "nbconvert_exporter": "python",
   "pygments_lexer": "ipython3",
   "version": "3.10.9"
  }
 },
 "nbformat": 4,
 "nbformat_minor": 5
}
