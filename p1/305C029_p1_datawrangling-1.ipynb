{
 "cells": [
  {
   "cell_type": "code",
   "execution_count": 3,
   "id": "5ecdd34e",
   "metadata": {},
   "outputs": [],
   "source": [
    "import pandas as pd\n",
    "import numpy as np"
   ]
  },
  {
   "cell_type": "code",
   "execution_count": 2,
   "id": "4de73956",
   "metadata": {},
   "outputs": [],
   "source": [
    "df=pd.read_csv(\"titanic.csv\")"
   ]
  },
  {
   "cell_type": "code",
   "execution_count": null,
   "id": "608e59aa",
   "metadata": {},
   "outputs": [],
   "source": [
    "df\n"
   ]
  },
  {
   "cell_type": "code",
   "execution_count": null,
   "id": "00ac1665",
   "metadata": {},
   "outputs": [],
   "source": [
    "# check dimension of the dataframe\n",
    "df.shape\n"
   ]
  },
  {
   "cell_type": "code",
   "execution_count": null,
   "id": "b08c86f1",
   "metadata": {},
   "outputs": [],
   "source": [
    "# check columns present\n",
    "df.columns"
   ]
  },
  {
   "cell_type": "code",
   "execution_count": null,
   "id": "3d12d345",
   "metadata": {},
   "outputs": [],
   "source": [
    "# check the total size\n",
    "df.size"
   ]
  },
  {
   "cell_type": "code",
   "execution_count": null,
   "id": "7a10a7e9",
   "metadata": {},
   "outputs": [],
   "source": [
    "df.dtypes"
   ]
  },
  {
   "cell_type": "code",
   "execution_count": null,
   "id": "fd9d2dd4",
   "metadata": {},
   "outputs": [],
   "source": [
    "# check for missing values\n",
    "df.isnull().sum()"
   ]
  },
  {
   "cell_type": "code",
   "execution_count": null,
   "id": "8b82e641",
   "metadata": {},
   "outputs": [],
   "source": [
    "# check the intial statistics\n",
    "df.describe()"
   ]
  },
  {
   "cell_type": "code",
   "execution_count": null,
   "id": "05116f97",
   "metadata": {},
   "outputs": [],
   "source": [
    "# printed the info about the dataframe\n",
    "df.info()"
   ]
  },
  {
   "cell_type": "code",
   "execution_count": null,
   "id": "01c36bb1",
   "metadata": {},
   "outputs": [],
   "source": [
    "#data normalization and data formating\n",
    "\n",
    "# handling missing values\n",
    "#1 fillna() method which we can replace null(NaN) values with some oth or we \n",
    "# can perform forward fill(ffill) , backward fill(bfill).\n",
    "\n",
    "#2 interpolate(): performs linear interpolation( by default but u can change and repplace the null with the result.)\n",
    "#3 deropna(): it will drop all the rows that have NaN values . but using this"
   ]
  },
  {
   "cell_type": "code",
   "execution_count": null,
   "id": "df712508",
   "metadata": {},
   "outputs": [],
   "source": [
    "df[\"Cabin\"]= df[\"Cabin\"].replace(to_replace=np.nan,value=\"unknown\")"
   ]
  },
  {
   "cell_type": "code",
   "execution_count": null,
   "id": "16c88a9f",
   "metadata": {},
   "outputs": [],
   "source": [
    "df"
   ]
  },
  {
   "cell_type": "code",
   "execution_count": null,
   "id": "d096d981",
   "metadata": {},
   "outputs": [],
   "source": [
    "df[\"Age\"]=df[\"Age\"].interpolate()\n",
    "df"
   ]
  },
  {
   "cell_type": "code",
   "execution_count": null,
   "id": "4a89c3ce",
   "metadata": {},
   "outputs": [],
   "source": [
    "df[\"Embarked\"].fillna(method=\"ffill\",inplace=True)"
   ]
  },
  {
   "cell_type": "code",
   "execution_count": null,
   "id": "1f6f342a",
   "metadata": {},
   "outputs": [],
   "source": [
    "df"
   ]
  },
  {
   "cell_type": "code",
   "execution_count": null,
   "id": "b56dbe53",
   "metadata": {},
   "outputs": [],
   "source": [
    "df.isnull().sum()"
   ]
  },
  {
   "cell_type": "code",
   "execution_count": null,
   "id": "fdf5fdc9",
   "metadata": {},
   "outputs": [],
   "source": [
    "#Changing datatypes\n",
    "df.dtypes\n"
   ]
  },
  {
   "cell_type": "code",
   "execution_count": null,
   "id": "068090ea",
   "metadata": {},
   "outputs": [],
   "source": [
    "df[\"Aeg\"]=df[\"Age\"].astype('int64')"
   ]
  },
  {
   "cell_type": "code",
   "execution_count": null,
   "id": "c8a24126",
   "metadata": {},
   "outputs": [],
   "source": [
    "df"
   ]
  },
  {
   "cell_type": "code",
   "execution_count": null,
   "id": "410346b4",
   "metadata": {},
   "outputs": [],
   "source": [
    "# turning categorical variables into quantitive\n",
    "quantitaive_data=pd.get_dummies(df.Embarked,prefix='Embarked')"
   ]
  },
  {
   "cell_type": "code",
   "execution_count": null,
   "id": "93e49d84",
   "metadata": {},
   "outputs": [],
   "source": [
    "quantitaive_data\n"
   ]
  },
  {
   "cell_type": "code",
   "execution_count": null,
   "id": "22e1c526",
   "metadata": {},
   "outputs": [],
   "source": [
    "df=df.join(quantitaive_data)\n",
    "df"
   ]
  },
  {
   "cell_type": "code",
   "execution_count": null,
   "id": "b8a954c7",
   "metadata": {},
   "outputs": [],
   "source": [
    "df.drop(['Embarked'],axis=1,inplace=True)\n",
    "df"
   ]
  },
  {
   "cell_type": "code",
   "execution_count": null,
   "id": "94f7acce",
   "metadata": {},
   "outputs": [],
   "source": [
    "quantitaive_sex=pd.get_dummies(df.Sex,prefix='Sex')\n",
    "quantitaive_sex"
   ]
  },
  {
   "cell_type": "code",
   "execution_count": null,
   "id": "a4668bd3",
   "metadata": {},
   "outputs": [],
   "source": [
    "df=df.join(quantitaive_sex)\n",
    "df"
   ]
  },
  {
   "cell_type": "code",
   "execution_count": null,
   "id": "a9b0cd1c",
   "metadata": {},
   "outputs": [],
   "source": [
    "df.drop(['Sex'],axis=1,inplace=True)"
   ]
  },
  {
   "cell_type": "code",
   "execution_count": null,
   "id": "e6eac004",
   "metadata": {},
   "outputs": [],
   "source": [
    "df"
   ]
  }
 ],
 "metadata": {
  "kernelspec": {
   "display_name": "Python 3",
   "language": "python",
   "name": "python3"
  },
  "language_info": {
   "codemirror_mode": {
    "name": "ipython",
    "version": 3
   },
   "file_extension": ".py",
   "mimetype": "text/x-python",
   "name": "python",
   "nbconvert_exporter": "python",
   "pygments_lexer": "ipython3",
   "version": "3.10.9"
  }
 },
 "nbformat": 4,
 "nbformat_minor": 5
}
