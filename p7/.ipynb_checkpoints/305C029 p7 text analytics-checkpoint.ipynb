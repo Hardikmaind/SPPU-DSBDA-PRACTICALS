{
 "cells": [
  {
   "cell_type": "code",
   "execution_count": null,
   "id": "70baa238",
   "metadata": {},
   "outputs": [],
   "source": [
    "from textblob import TextBlob\n",
    "import nltk\n",
    "nltk.download('punkt')"
   ]
  },
  {
   "cell_type": "code",
   "execution_count": null,
   "id": "ec7f5d0e",
   "metadata": {},
   "outputs": [],
   "source": [
    "b=TextBlob(\"i havv good spelling\")"
   ]
  },
  {
   "cell_type": "code",
   "execution_count": null,
   "id": "e4db9312",
   "metadata": {},
   "outputs": [],
   "source": [
    "b.correct()"
   ]
  },
  {
   "cell_type": "raw",
   "id": "02ffc8cc",
   "metadata": {},
   "source": [
    "import nltk\n",
    "nltk.download('punkt')\n",
    "b1=TextBlob(\"Beautiful is better than ugly.\"\n",
    "           \"Explicit is better than implicit.\"\n",
    "           \"Simple is better than complex\")\n"
   ]
  },
  {
   "cell_type": "code",
   "execution_count": null,
   "id": "7667704c",
   "metadata": {},
   "outputs": [],
   "source": [
    "b1.words"
   ]
  },
  {
   "cell_type": "code",
   "execution_count": null,
   "id": "7078a8d1",
   "metadata": {},
   "outputs": [],
   "source": [
    "    b1.sentences"
   ]
  },
  {
   "cell_type": "code",
   "execution_count": null,
   "id": "c71f6974",
   "metadata": {},
   "outputs": [],
   "source": []
  }
 ],
 "metadata": {
  "kernelspec": {
   "display_name": "Python 3",
   "language": "python",
   "name": "python3"
  },
  "language_info": {
   "codemirror_mode": {
    "name": "ipython",
    "version": 3
   },
   "file_extension": ".py",
   "mimetype": "text/x-python",
   "name": "python",
   "nbconvert_exporter": "python",
   "pygments_lexer": "ipython3",
   "version": "3.10.9"
  }
 },
 "nbformat": 4,
 "nbformat_minor": 5
}
