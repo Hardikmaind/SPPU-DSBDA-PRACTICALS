{
 "cells": [
  {
   "cell_type": "code",
   "execution_count": null,
   "id": "fbbc1820",
   "metadata": {},
   "outputs": [],
   "source": [
    "import numpy as np\n",
    "import pandas as pd\n",
    "import matplotlib.pyplot as plt\n",
    "%matplotlib inline\n",
    "import seaborn as sns"
   ]
  },
  {
   "cell_type": "code",
   "execution_count": null,
   "id": "97083c73",
   "metadata": {},
   "outputs": [],
   "source": [
    "# reading csv into data frame"
   ]
  },
  {
   "cell_type": "code",
   "execution_count": null,
   "id": "84a29c0a",
   "metadata": {},
   "outputs": [],
   "source": [
    "df=pd.read_csv('train.csv')"
   ]
  },
  {
   "cell_type": "code",
   "execution_count": null,
   "id": "c2a2f476",
   "metadata": {},
   "outputs": [],
   "source": [
    "df\n"
   ]
  },
  {
   "cell_type": "code",
   "execution_count": null,
   "id": "107eeef4",
   "metadata": {},
   "outputs": [],
   "source": [
    "# data visualizatoin"
   ]
  },
  {
   "cell_type": "code",
   "execution_count": null,
   "id": "51b0b7c3",
   "metadata": {},
   "outputs": [],
   "source": [
    "\n",
    "# sns.displot(data=df,x='Pclass' stat=\"density\", kde=True)\n",
    "# sns.histplot(df['Pclass'],kde=True,stat=\"density\")\n",
    "sns.distplot(df['Pclass'])\n"
   ]
  },
  {
   "cell_type": "code",
   "execution_count": null,
   "id": "cbc1ca28",
   "metadata": {},
   "outputs": [],
   "source": [
    "sns.displot(df['Age'],kde=True ,stat=\"density\")"
   ]
  },
  {
   "cell_type": "code",
   "execution_count": null,
   "id": "88a208c2",
   "metadata": {},
   "outputs": [],
   "source": [
    "sns.displot(df['Age'],bins=40)"
   ]
  },
  {
   "cell_type": "code",
   "execution_count": null,
   "id": "fc475028",
   "metadata": {},
   "outputs": [],
   "source": [
    "sns.displot(df['Age'],bins=40,kde=False,rug=True)"
   ]
  },
  {
   "cell_type": "code",
   "execution_count": null,
   "id": "adf8b632",
   "metadata": {},
   "outputs": [],
   "source": [
    "sns.jointplot(x=df['Age'],y=df['Fare'],kind='scatter')"
   ]
  },
  {
   "cell_type": "code",
   "execution_count": null,
   "id": "a235f667",
   "metadata": {},
   "outputs": [],
   "source": [
    "sns.jointplot(x=df['Age'],y=df['Fare'],kind='hex')"
   ]
  },
  {
   "cell_type": "code",
   "execution_count": null,
   "id": "bfc84117",
   "metadata": {},
   "outputs": [],
   "source": [
    "sns.pairplot(df)"
   ]
  },
  {
   "cell_type": "code",
   "execution_count": null,
   "id": "962fd4cf",
   "metadata": {},
   "outputs": [],
   "source": [
    "sns.barplot(x=df['Sex'],y=df['Fare'])"
   ]
  },
  {
   "cell_type": "code",
   "execution_count": null,
   "id": "ecf1a267",
   "metadata": {},
   "outputs": [],
   "source": [
    "sns.countplot(df['Pclass'])"
   ]
  },
  {
   "cell_type": "code",
   "execution_count": null,
   "id": "2d7f1699",
   "metadata": {},
   "outputs": [],
   "source": [
    "sns.distplot(df['Fare'],hist=True)\n",
    "# sns.displot(df['Fare'],hist=True)  //this above two will show the error \n",
    "# sns.displot(df['Fare'], kde=True, bins=20)\n",
    "\n"
   ]
  },
  {
   "cell_type": "code",
   "execution_count": null,
   "id": "69b3aafa",
   "metadata": {},
   "outputs": [],
   "source": []
  }
 ],
 "metadata": {
  "kernelspec": {
   "display_name": "Python 3",
   "language": "python",
   "name": "python3"
  },
  "language_info": {
   "codemirror_mode": {
    "name": "ipython",
    "version": 3
   },
   "file_extension": ".py",
   "mimetype": "text/x-python",
   "name": "python",
   "nbconvert_exporter": "python",
   "pygments_lexer": "ipython3",
   "version": "3.10.9"
  }
 },
 "nbformat": 4,
 "nbformat_minor": 5
}
